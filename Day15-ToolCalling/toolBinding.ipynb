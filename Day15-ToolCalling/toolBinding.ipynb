{
 "cells": [
  {
   "cell_type": "code",
   "execution_count": 10,
   "id": "3819f371",
   "metadata": {},
   "outputs": [],
   "source": [
    "import os\n",
    "os.environ['COHERE_API_KEY'] = \"43w9iLmkVlcDMzLiYXfPfnRgdRtG7NZDT6wCSzcK\""
   ]
  },
  {
   "cell_type": "code",
   "execution_count": 11,
   "id": "14f19fa5",
   "metadata": {},
   "outputs": [],
   "source": [
    "from langchain_cohere import ChatCohere\n",
    "from langchain_core.tools import tool\n",
    "from langchain_core.messages import HumanMessage\n",
    "import requests"
   ]
  },
  {
   "cell_type": "code",
   "execution_count": 12,
   "id": "40f42f22",
   "metadata": {},
   "outputs": [],
   "source": [
    "# creating tool\n",
    "@tool\n",
    "def getPower(a: int, b: int) -> int:\n",
    "    \"\"\"\n",
    "    This function takes two integers and returns the power of a raised to b.\n",
    "    \"\"\"\n",
    "    return a ** b;"
   ]
  },
  {
   "cell_type": "code",
   "execution_count": 13,
   "id": "ec414066",
   "metadata": {},
   "outputs": [
    {
     "name": "stdout",
     "output_type": "stream",
     "text": [
      "8\n"
     ]
    }
   ],
   "source": [
    "print(getPower.invoke({'a': 2, 'b': 3}))"
   ]
  },
  {
   "cell_type": "code",
   "execution_count": 14,
   "id": "0c88f90d",
   "metadata": {},
   "outputs": [],
   "source": [
    "llm = ChatCohere(model='command-r')"
   ]
  },
  {
   "cell_type": "code",
   "execution_count": 15,
   "id": "7989bb48",
   "metadata": {},
   "outputs": [],
   "source": [
    "# tool Binding\n",
    "binded_tool = llm.bind_tools([getPower])"
   ]
  },
  {
   "cell_type": "code",
   "execution_count": null,
   "id": "eac2e61f",
   "metadata": {},
   "outputs": [
    {
     "data": {
      "text/plain": [
       "AIMessage(content=\"Hey there! I'm doing well, thank you for asking 😊 How about you?\", additional_kwargs={'id': '20831709-4741-4bf5-ab84-1e13badee512', 'finish_reason': 'COMPLETE', 'content': \"Hey there! I'm doing well, thank you for asking 😊 How about you?\", 'token_count': {'input_tokens': 909.0, 'output_tokens': 102.0}}, response_metadata={'id': '20831709-4741-4bf5-ab84-1e13badee512', 'finish_reason': 'COMPLETE', 'content': \"Hey there! I'm doing well, thank you for asking 😊 How about you?\", 'token_count': {'input_tokens': 909.0, 'output_tokens': 102.0}}, id='run-ae579bb3-46f0-4f33-bdd2-0ae225a3511a-0', usage_metadata={'input_tokens': 909, 'output_tokens': 102, 'total_tokens': 1011})"
      ]
     },
     "execution_count": 17,
     "metadata": {},
     "output_type": "execute_result"
    }
   ],
   "source": [
    "binded_tool.invoke(\"how are you doing ?\") # no tool is called because there is no need to call it, because output doesn't require it now. "
   ]
  },
  {
   "cell_type": "code",
   "execution_count": 21,
   "id": "70780c2d",
   "metadata": {},
   "outputs": [
    {
     "name": "stdout",
     "output_type": "stream",
     "text": [
      "content='I will use the function getPower to calculate the answer to this mathematical equation.' additional_kwargs={'id': '2e917864-3e6b-4856-bb73-97c80ae3d7ae', 'finish_reason': 'TOOL_CALL', 'tool_plan': 'I will use the function getPower to calculate the answer to this mathematical equation.', 'tool_calls': [{'id': 'getPower_09p432ed66wn', 'type': 'function', 'function': {'name': 'getPower', 'arguments': '{\"a\":2,\"b\":3}'}}], 'token_count': {'input_tokens': 909.0, 'output_tokens': 63.0}} response_metadata={'id': '2e917864-3e6b-4856-bb73-97c80ae3d7ae', 'finish_reason': 'TOOL_CALL', 'tool_plan': 'I will use the function getPower to calculate the answer to this mathematical equation.', 'tool_calls': [{'id': 'getPower_09p432ed66wn', 'type': 'function', 'function': {'name': 'getPower', 'arguments': '{\"a\":2,\"b\":3}'}}], 'token_count': {'input_tokens': 909.0, 'output_tokens': 63.0}} id='run-9bbbf13d-2d1e-4a01-8908-c478925764db-0' tool_calls=[{'name': 'getPower', 'args': {'a': 2, 'b': 3}, 'id': 'getPower_09p432ed66wn', 'type': 'tool_call'}] usage_metadata={'input_tokens': 909, 'output_tokens': 63, 'total_tokens': 972}\n"
     ]
    },
    {
     "data": {
      "text/plain": [
       "[{'name': 'getPower',\n",
       "  'args': {'a': 2, 'b': 3},\n",
       "  'id': 'getPower_w890gay40ahs',\n",
       "  'type': 'tool_call'}]"
      ]
     },
     "execution_count": 21,
     "metadata": {},
     "output_type": "execute_result"
    }
   ],
   "source": [
    "print(binded_tool.invoke(\"calculate 2^3\"))\n",
    "binded_tool.invoke(\"calculate 2^3\").tool_calls # here we can see the tool got called when we asked to calculate 2^3"
   ]
  },
  {
   "cell_type": "code",
   "execution_count": null,
   "id": "0d6bf49e",
   "metadata": {},
   "outputs": [
    {
     "name": "stdout",
     "output_type": "stream",
     "text": [
      "{'name': 'getPower', 'args': {'a': 2, 'b': 3}, 'id': 'getPower_per4j8wwk8nc', 'type': 'tool_call'}\n"
     ]
    }
   ],
   "source": [
    "# tool execution\n",
    "response = binded_tool.invoke(\"calculate 2^3\")\n",
    "print(response.tool_calls[0])"
   ]
  },
  {
   "cell_type": "code",
   "execution_count": 24,
   "id": "a2db08b4",
   "metadata": {},
   "outputs": [
    {
     "data": {
      "text/plain": [
       "{'a': 2, 'b': 3}"
      ]
     },
     "execution_count": 24,
     "metadata": {},
     "output_type": "execute_result"
    }
   ],
   "source": [
    "response.tool_calls[0]['args']"
   ]
  },
  {
   "cell_type": "code",
   "execution_count": null,
   "id": "fea45418",
   "metadata": {},
   "outputs": [
    {
     "data": {
      "text/plain": [
       "8"
      ]
     },
     "execution_count": 25,
     "metadata": {},
     "output_type": "execute_result"
    }
   ],
   "source": [
    "getPower.invoke(response.tool_calls[0]['args']) # we can also call the tool directly with the args we got from the response, and we have do the same."
   ]
  },
  {
   "cell_type": "code",
   "execution_count": null,
   "id": "c1e0875d",
   "metadata": {},
   "outputs": [
    {
     "data": {
      "text/plain": [
       "ToolMessage(content='8', name='getPower', tool_call_id='getPower_per4j8wwk8nc')"
      ]
     },
     "execution_count": 26,
     "metadata": {},
     "output_type": "execute_result"
    }
   ],
   "source": [
    "# tool execution\n",
    "getPower.invoke(response.tool_calls[0]) # we can see that when we give whole json object of tool call, it provides structured output with some additional information. (Tool Message)"
   ]
  },
  {
   "cell_type": "code",
   "execution_count": 38,
   "id": "759929a4",
   "metadata": {},
   "outputs": [],
   "source": [
    "# provide tool's reponse to llm for response generation\n",
    "query = HumanMessage(\"calculate 15^3\")\n",
    "\n",
    "messages = [query]\n",
    "\n",
    "response = binded_tool.invoke(messages)\n",
    "\n",
    "messages.append(response)"
   ]
  },
  {
   "cell_type": "code",
   "execution_count": 39,
   "id": "52f93f65",
   "metadata": {},
   "outputs": [
    {
     "data": {
      "text/plain": [
       "[HumanMessage(content='calculate 15^3', additional_kwargs={}, response_metadata={}),\n",
       " AIMessage(content='I will use the provided function to calculate the answer to this mathematical equation.', additional_kwargs={'id': '95712f08-be55-4e48-af5a-3639d74f65ff', 'finish_reason': 'TOOL_CALL', 'tool_plan': 'I will use the provided function to calculate the answer to this mathematical equation.', 'tool_calls': [{'id': 'getPower_q0e5r7e4sa6c', 'type': 'function', 'function': {'name': 'getPower', 'arguments': '{\"a\":15,\"b\":3}'}}], 'token_count': {'input_tokens': 910.0, 'output_tokens': 63.0}}, response_metadata={'id': '95712f08-be55-4e48-af5a-3639d74f65ff', 'finish_reason': 'TOOL_CALL', 'tool_plan': 'I will use the provided function to calculate the answer to this mathematical equation.', 'tool_calls': [{'id': 'getPower_q0e5r7e4sa6c', 'type': 'function', 'function': {'name': 'getPower', 'arguments': '{\"a\":15,\"b\":3}'}}], 'token_count': {'input_tokens': 910.0, 'output_tokens': 63.0}}, id='run-be5cd7d1-e558-4e3b-a105-52f20490819f-0', tool_calls=[{'name': 'getPower', 'args': {'a': 15, 'b': 3}, 'id': 'getPower_q0e5r7e4sa6c', 'type': 'tool_call'}], usage_metadata={'input_tokens': 910, 'output_tokens': 63, 'total_tokens': 973})]"
      ]
     },
     "execution_count": 39,
     "metadata": {},
     "output_type": "execute_result"
    }
   ],
   "source": [
    "messages"
   ]
  },
  {
   "cell_type": "code",
   "execution_count": 40,
   "id": "cc797763",
   "metadata": {},
   "outputs": [
    {
     "data": {
      "text/plain": [
       "ToolMessage(content='3375', name='getPower', tool_call_id='getPower_q0e5r7e4sa6c')"
      ]
     },
     "execution_count": 40,
     "metadata": {},
     "output_type": "execute_result"
    }
   ],
   "source": [
    "tool_result = getPower.invoke(response.tool_calls[0])\n",
    "tool_result"
   ]
  },
  {
   "cell_type": "code",
   "execution_count": 41,
   "id": "2ceb2e1b",
   "metadata": {},
   "outputs": [
    {
     "data": {
      "text/plain": [
       "[HumanMessage(content='calculate 15^3', additional_kwargs={}, response_metadata={}),\n",
       " AIMessage(content='I will use the provided function to calculate the answer to this mathematical equation.', additional_kwargs={'id': '95712f08-be55-4e48-af5a-3639d74f65ff', 'finish_reason': 'TOOL_CALL', 'tool_plan': 'I will use the provided function to calculate the answer to this mathematical equation.', 'tool_calls': [{'id': 'getPower_q0e5r7e4sa6c', 'type': 'function', 'function': {'name': 'getPower', 'arguments': '{\"a\":15,\"b\":3}'}}], 'token_count': {'input_tokens': 910.0, 'output_tokens': 63.0}}, response_metadata={'id': '95712f08-be55-4e48-af5a-3639d74f65ff', 'finish_reason': 'TOOL_CALL', 'tool_plan': 'I will use the provided function to calculate the answer to this mathematical equation.', 'tool_calls': [{'id': 'getPower_q0e5r7e4sa6c', 'type': 'function', 'function': {'name': 'getPower', 'arguments': '{\"a\":15,\"b\":3}'}}], 'token_count': {'input_tokens': 910.0, 'output_tokens': 63.0}}, id='run-be5cd7d1-e558-4e3b-a105-52f20490819f-0', tool_calls=[{'name': 'getPower', 'args': {'a': 15, 'b': 3}, 'id': 'getPower_q0e5r7e4sa6c', 'type': 'tool_call'}], usage_metadata={'input_tokens': 910, 'output_tokens': 63, 'total_tokens': 973}),\n",
       " ToolMessage(content='3375', name='getPower', tool_call_id='getPower_q0e5r7e4sa6c')]"
      ]
     },
     "execution_count": 41,
     "metadata": {},
     "output_type": "execute_result"
    }
   ],
   "source": [
    "messages.append(tool_result)\n",
    "messages"
   ]
  },
  {
   "cell_type": "markdown",
   "id": "3d7aae6e",
   "metadata": {},
   "source": [
    "*we are trying to save a conversation history here to help llm to generate proper response.*"
   ]
  },
  {
   "cell_type": "code",
   "execution_count": 42,
   "id": "b42d1f2c",
   "metadata": {},
   "outputs": [
    {
     "data": {
      "text/plain": [
       "AIMessage(content='The answer to this equation is **3375**.', additional_kwargs={'id': 'bd616c7b-c7f4-4214-a83d-50cccc6539b1', 'finish_reason': 'COMPLETE', 'content': 'The answer to this equation is **3375**.', 'citations': [Citation(start=32, end=37, text='*3375', sources=[ToolSource(type='tool', id='getPower_q0e5r7e4sa6c:0', tool_output={'output': '3375'})], type='TEXT_CONTENT')], 'token_count': {'input_tokens': 1006.0, 'output_tokens': 56.0}}, response_metadata={'id': 'bd616c7b-c7f4-4214-a83d-50cccc6539b1', 'finish_reason': 'COMPLETE', 'content': 'The answer to this equation is **3375**.', 'citations': [Citation(start=32, end=37, text='*3375', sources=[ToolSource(type='tool', id='getPower_q0e5r7e4sa6c:0', tool_output={'output': '3375'})], type='TEXT_CONTENT')], 'token_count': {'input_tokens': 1006.0, 'output_tokens': 56.0}}, id='run-2b519255-d915-431f-8c3a-2e74e16ca15b-0', usage_metadata={'input_tokens': 1006, 'output_tokens': 56, 'total_tokens': 1062})"
      ]
     },
     "execution_count": 42,
     "metadata": {},
     "output_type": "execute_result"
    }
   ],
   "source": [
    "final_response = binded_tool.invoke(messages)\n",
    "final_response"
   ]
  },
  {
   "cell_type": "code",
   "execution_count": null,
   "id": "d485b151",
   "metadata": {},
   "outputs": [],
   "source": []
  },
  {
   "cell_type": "code",
   "execution_count": null,
   "id": "703a9d3a",
   "metadata": {},
   "outputs": [],
   "source": []
  }
 ],
 "metadata": {
  "kernelspec": {
   "display_name": "venv",
   "language": "python",
   "name": "python3"
  },
  "language_info": {
   "codemirror_mode": {
    "name": "ipython",
    "version": 3
   },
   "file_extension": ".py",
   "mimetype": "text/x-python",
   "name": "python",
   "nbconvert_exporter": "python",
   "pygments_lexer": "ipython3",
   "version": "3.11.7"
  }
 },
 "nbformat": 4,
 "nbformat_minor": 5
}
