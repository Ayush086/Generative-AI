{
 "cells": [
  {
   "cell_type": "code",
   "execution_count": 1,
   "id": "0640714b",
   "metadata": {},
   "outputs": [],
   "source": [
    "from langchain_core.tools import tool, InjectedToolArg\n",
    "from typing import Annotated\n",
    "import requests"
   ]
  },
  {
   "cell_type": "code",
   "execution_count": 2,
   "id": "7be93e94",
   "metadata": {},
   "outputs": [],
   "source": [
    "# tool creation\n",
    "@tool\n",
    "def getCurrencyConversionFactor(base_currency: str, target_currency: str) -> float:\n",
    "    \"\"\" Get a currency conversion factor from base_currency to target_currency.\"\"\"\n",
    "    \n",
    "    url = f\"https://v6.exchangerate-api.com/v6/ae37a026e013b0886b1b29c5/pair/{base_currency}/{target_currency}\"\n",
    "    \n",
    "    response = requests.get(url)\n",
    "    return response.json()"
   ]
  },
  {
   "cell_type": "code",
   "execution_count": 3,
   "id": "6effcb28",
   "metadata": {},
   "outputs": [
    {
     "data": {
      "text/plain": [
       "{'result': 'success',\n",
       " 'documentation': 'https://www.exchangerate-api.com/docs',\n",
       " 'terms_of_use': 'https://www.exchangerate-api.com/terms',\n",
       " 'time_last_update_unix': 1745971201,\n",
       " 'time_last_update_utc': 'Wed, 30 Apr 2025 00:00:01 +0000',\n",
       " 'time_next_update_unix': 1746057601,\n",
       " 'time_next_update_utc': 'Thu, 01 May 2025 00:00:01 +0000',\n",
       " 'base_code': 'USD',\n",
       " 'target_code': 'INR',\n",
       " 'conversion_rate': 85.2184}"
      ]
     },
     "execution_count": 3,
     "metadata": {},
     "output_type": "execute_result"
    }
   ],
   "source": [
    "getCurrencyConversionFactor.invoke({'base_currency': 'USD', 'target_currency': 'INR'})"
   ]
  },
  {
   "cell_type": "code",
   "execution_count": 4,
   "id": "1f202a74",
   "metadata": {},
   "outputs": [],
   "source": [
    "@tool\n",
    "def convertCurrency(amount: float, conversion_factor: float) -> float: # we have set the conversion_factor as an injected tool arg which means it will be passed as an argument to the function automatically, llm can't pass value to this argument from the function\n",
    "    \"\"\" Convert an amount of money using a conversion factor.\"\"\"\n",
    "    \n",
    "    return amount * conversion_factor"
   ]
  },
  {
   "cell_type": "code",
   "execution_count": 5,
   "id": "973bcfa4",
   "metadata": {},
   "outputs": [
    {
     "data": {
      "text/plain": [
       "8250.0"
      ]
     },
     "execution_count": 5,
     "metadata": {},
     "output_type": "execute_result"
    }
   ],
   "source": [
    "convertCurrency.invoke({'amount': 100, 'conversion_factor': 82.5})"
   ]
  },
  {
   "cell_type": "code",
   "execution_count": 6,
   "id": "f3e7502d",
   "metadata": {},
   "outputs": [],
   "source": [
    "from langchain_cohere import ChatCohere\n",
    "from langchain_core.messages import HumanMessage"
   ]
  },
  {
   "cell_type": "code",
   "execution_count": 7,
   "id": "8c3cf5ce",
   "metadata": {},
   "outputs": [],
   "source": [
    "llm = ChatCohere(model='command-r')"
   ]
  },
  {
   "cell_type": "code",
   "execution_count": 8,
   "id": "e2022736",
   "metadata": {},
   "outputs": [],
   "source": [
    "# tool binding\n",
    "binded_llm = llm.bind_tools([getCurrencyConversionFactor, convertCurrency])"
   ]
  },
  {
   "cell_type": "code",
   "execution_count": 9,
   "id": "f89097cb",
   "metadata": {},
   "outputs": [
    {
     "data": {
      "text/plain": [
       "[ToolV2(type='function', function=ToolV2Function(name='getCurrencyConversionFactor', description='Get a currency conversion factor from base_currency to target_currency.', parameters={'type': 'object', 'properties': {'base_currency': {'type': 'string', 'description': ''}, 'target_currency': {'type': 'string', 'description': ''}}, 'required': ['base_currency', 'target_currency']})),\n",
       " ToolV2(type='function', function=ToolV2Function(name='convertCurrency', description='Convert an amount of money using a conversion factor.', parameters={'type': 'object', 'properties': {'amount': {'type': 'number', 'description': ''}, 'conversion_factor': {'type': 'number', 'description': ''}}, 'required': ['amount', 'conversion_factor']}))]"
      ]
     },
     "execution_count": 9,
     "metadata": {},
     "output_type": "execute_result"
    }
   ],
   "source": [
    "binded_llm.kwargs['tools']"
   ]
  },
  {
   "cell_type": "code",
   "execution_count": 30,
   "id": "0b0bdec6",
   "metadata": {},
   "outputs": [],
   "source": [
    "messages = [HumanMessage(\"What is the conversion factor from eur to inr, and based on that can you convert 86 eur to INR?\")]"
   ]
  },
  {
   "cell_type": "code",
   "execution_count": 31,
   "id": "c58f0243",
   "metadata": {},
   "outputs": [],
   "source": [
    "res1 = binded_llm.invoke(messages)"
   ]
  },
  {
   "cell_type": "code",
   "execution_count": 32,
   "id": "ddc6fa69",
   "metadata": {},
   "outputs": [
    {
     "data": {
      "text/plain": [
       "[{'name': 'getCurrencyConversionFactor',\n",
       "  'args': {'base_currency': 'EUR', 'target_currency': 'INR'},\n",
       "  'id': 'getCurrencyConversionFactor_272vhd9hntva',\n",
       "  'type': 'tool_call'}]"
      ]
     },
     "execution_count": 32,
     "metadata": {},
     "output_type": "execute_result"
    }
   ],
   "source": [
    "res1.tool_calls"
   ]
  },
  {
   "cell_type": "code",
   "execution_count": 33,
   "id": "5d72f682",
   "metadata": {},
   "outputs": [
    {
     "data": {
      "text/plain": [
       "[HumanMessage(content='What is the conversion factor from eur to inr, and based on that can you convert 86 eur to INR?', additional_kwargs={}, response_metadata={}),\n",
       " AIMessage(content='First, I will find out the conversion factor from EUR to INR. Then, I will multiply this conversion factor by 86 to convert 86 EUR into INR.', additional_kwargs={'id': 'afcba0ba-afb5-44d2-b85b-b8de470fd61f', 'finish_reason': 'TOOL_CALL', 'tool_plan': 'First, I will find out the conversion factor from EUR to INR. Then, I will multiply this conversion factor by 86 to convert 86 EUR into INR.', 'tool_calls': [{'id': 'getCurrencyConversionFactor_272vhd9hntva', 'type': 'function', 'function': {'name': 'getCurrencyConversionFactor', 'arguments': '{\"base_currency\":\"EUR\",\"target_currency\":\"INR\"}'}}], 'token_count': {'input_tokens': 994.0, 'output_tokens': 90.0}}, response_metadata={'id': 'afcba0ba-afb5-44d2-b85b-b8de470fd61f', 'finish_reason': 'TOOL_CALL', 'tool_plan': 'First, I will find out the conversion factor from EUR to INR. Then, I will multiply this conversion factor by 86 to convert 86 EUR into INR.', 'tool_calls': [{'id': 'getCurrencyConversionFactor_272vhd9hntva', 'type': 'function', 'function': {'name': 'getCurrencyConversionFactor', 'arguments': '{\"base_currency\":\"EUR\",\"target_currency\":\"INR\"}'}}], 'token_count': {'input_tokens': 994.0, 'output_tokens': 90.0}}, id='run-63138335-7fef-4014-843c-b983b668a21d-0', tool_calls=[{'name': 'getCurrencyConversionFactor', 'args': {'base_currency': 'EUR', 'target_currency': 'INR'}, 'id': 'getCurrencyConversionFactor_272vhd9hntva', 'type': 'tool_call'}], usage_metadata={'input_tokens': 994, 'output_tokens': 90, 'total_tokens': 1084})]"
      ]
     },
     "execution_count": 33,
     "metadata": {},
     "output_type": "execute_result"
    }
   ],
   "source": [
    "messages.append(res1)\n",
    "messages"
   ]
  },
  {
   "cell_type": "code",
   "execution_count": 34,
   "id": "be604918",
   "metadata": {},
   "outputs": [
    {
     "data": {
      "text/plain": [
       "ToolMessage(content='{\"result\": \"success\", \"documentation\": \"https://www.exchangerate-api.com/docs\", \"terms_of_use\": \"https://www.exchangerate-api.com/terms\", \"time_last_update_unix\": 1745971201, \"time_last_update_utc\": \"Wed, 30 Apr 2025 00:00:01 +0000\", \"time_next_update_unix\": 1746057601, \"time_next_update_utc\": \"Thu, 01 May 2025 00:00:01 +0000\", \"base_code\": \"EUR\", \"target_code\": \"INR\", \"conversion_rate\": 96.993}', name='getCurrencyConversionFactor', tool_call_id='getCurrencyConversionFactor_272vhd9hntva')"
      ]
     },
     "execution_count": 34,
     "metadata": {},
     "output_type": "execute_result"
    }
   ],
   "source": [
    "getconversionrateResponse = getCurrencyConversionFactor.invoke(res1.tool_calls[0])\n",
    "getconversionrateResponse"
   ]
  },
  {
   "cell_type": "code",
   "execution_count": 35,
   "id": "56188252",
   "metadata": {},
   "outputs": [
    {
     "data": {
      "text/plain": [
       "[HumanMessage(content='What is the conversion factor from eur to inr, and based on that can you convert 86 eur to INR?', additional_kwargs={}, response_metadata={}),\n",
       " AIMessage(content='First, I will find out the conversion factor from EUR to INR. Then, I will multiply this conversion factor by 86 to convert 86 EUR into INR.', additional_kwargs={'id': 'afcba0ba-afb5-44d2-b85b-b8de470fd61f', 'finish_reason': 'TOOL_CALL', 'tool_plan': 'First, I will find out the conversion factor from EUR to INR. Then, I will multiply this conversion factor by 86 to convert 86 EUR into INR.', 'tool_calls': [{'id': 'getCurrencyConversionFactor_272vhd9hntva', 'type': 'function', 'function': {'name': 'getCurrencyConversionFactor', 'arguments': '{\"base_currency\":\"EUR\",\"target_currency\":\"INR\"}'}}], 'token_count': {'input_tokens': 994.0, 'output_tokens': 90.0}}, response_metadata={'id': 'afcba0ba-afb5-44d2-b85b-b8de470fd61f', 'finish_reason': 'TOOL_CALL', 'tool_plan': 'First, I will find out the conversion factor from EUR to INR. Then, I will multiply this conversion factor by 86 to convert 86 EUR into INR.', 'tool_calls': [{'id': 'getCurrencyConversionFactor_272vhd9hntva', 'type': 'function', 'function': {'name': 'getCurrencyConversionFactor', 'arguments': '{\"base_currency\":\"EUR\",\"target_currency\":\"INR\"}'}}], 'token_count': {'input_tokens': 994.0, 'output_tokens': 90.0}}, id='run-63138335-7fef-4014-843c-b983b668a21d-0', tool_calls=[{'name': 'getCurrencyConversionFactor', 'args': {'base_currency': 'EUR', 'target_currency': 'INR'}, 'id': 'getCurrencyConversionFactor_272vhd9hntva', 'type': 'tool_call'}], usage_metadata={'input_tokens': 994, 'output_tokens': 90, 'total_tokens': 1084}),\n",
       " ToolMessage(content='{\"result\": \"success\", \"documentation\": \"https://www.exchangerate-api.com/docs\", \"terms_of_use\": \"https://www.exchangerate-api.com/terms\", \"time_last_update_unix\": 1745971201, \"time_last_update_utc\": \"Wed, 30 Apr 2025 00:00:01 +0000\", \"time_next_update_unix\": 1746057601, \"time_next_update_utc\": \"Thu, 01 May 2025 00:00:01 +0000\", \"base_code\": \"EUR\", \"target_code\": \"INR\", \"conversion_rate\": 96.993}', name='getCurrencyConversionFactor', tool_call_id='getCurrencyConversionFactor_272vhd9hntva')]"
      ]
     },
     "execution_count": 35,
     "metadata": {},
     "output_type": "execute_result"
    }
   ],
   "source": [
    "messages.append(getconversionrateResponse)\n",
    "messages"
   ]
  },
  {
   "cell_type": "code",
   "execution_count": 36,
   "id": "93f42405",
   "metadata": {},
   "outputs": [
    {
     "data": {
      "text/plain": [
       "AIMessage(content='The conversion factor from EUR to INR is 96.993. Now, I will multiply this conversion factor by 86 to convert 86 EUR into INR.', additional_kwargs={'id': 'bf8976ca-7ca0-4ab5-a3e6-ce972fed98f2', 'finish_reason': 'TOOL_CALL', 'tool_plan': 'The conversion factor from EUR to INR is 96.993. Now, I will multiply this conversion factor by 86 to convert 86 EUR into INR.', 'tool_calls': [{'id': 'convertCurrency_bkycqdfwkn1e', 'type': 'function', 'function': {'name': 'convertCurrency', 'arguments': '{\"amount\":86,\"conversion_factor\":96.993}'}}], 'token_count': {'input_tokens': 1304.0, 'output_tokens': 92.0}}, response_metadata={'id': 'bf8976ca-7ca0-4ab5-a3e6-ce972fed98f2', 'finish_reason': 'TOOL_CALL', 'tool_plan': 'The conversion factor from EUR to INR is 96.993. Now, I will multiply this conversion factor by 86 to convert 86 EUR into INR.', 'tool_calls': [{'id': 'convertCurrency_bkycqdfwkn1e', 'type': 'function', 'function': {'name': 'convertCurrency', 'arguments': '{\"amount\":86,\"conversion_factor\":96.993}'}}], 'token_count': {'input_tokens': 1304.0, 'output_tokens': 92.0}}, id='run-df7bf13a-7aa6-4053-b85f-4bb5f6fa9415-0', tool_calls=[{'name': 'convertCurrency', 'args': {'amount': 86, 'conversion_factor': 96.993}, 'id': 'convertCurrency_bkycqdfwkn1e', 'type': 'tool_call'}], usage_metadata={'input_tokens': 1304, 'output_tokens': 92, 'total_tokens': 1396})"
      ]
     },
     "execution_count": 36,
     "metadata": {},
     "output_type": "execute_result"
    }
   ],
   "source": [
    "res2 = binded_llm.invoke(messages)\n",
    "res2"
   ]
  },
  {
   "cell_type": "code",
   "execution_count": 37,
   "id": "e48af714",
   "metadata": {},
   "outputs": [
    {
     "data": {
      "text/plain": [
       "ToolMessage(content='8341.398', name='convertCurrency', tool_call_id='convertCurrency_bkycqdfwkn1e')"
      ]
     },
     "execution_count": 37,
     "metadata": {},
     "output_type": "execute_result"
    }
   ],
   "source": [
    "# conversion_rate = float(getconversionrateResponse.content)\n",
    "# res2.tool_calls[0]['args']['conversion_factor'] = conversion_rate\n",
    "multiplierResponse = convertCurrency.invoke(res2.tool_calls[0])\n",
    "multiplierResponse"
   ]
  },
  {
   "cell_type": "code",
   "execution_count": 38,
   "id": "fa32d58d",
   "metadata": {},
   "outputs": [
    {
     "data": {
      "text/plain": [
       "[HumanMessage(content='What is the conversion factor from eur to inr, and based on that can you convert 86 eur to INR?', additional_kwargs={}, response_metadata={}),\n",
       " AIMessage(content='First, I will find out the conversion factor from EUR to INR. Then, I will multiply this conversion factor by 86 to convert 86 EUR into INR.', additional_kwargs={'id': 'afcba0ba-afb5-44d2-b85b-b8de470fd61f', 'finish_reason': 'TOOL_CALL', 'tool_plan': 'First, I will find out the conversion factor from EUR to INR. Then, I will multiply this conversion factor by 86 to convert 86 EUR into INR.', 'tool_calls': [{'id': 'getCurrencyConversionFactor_272vhd9hntva', 'type': 'function', 'function': {'name': 'getCurrencyConversionFactor', 'arguments': '{\"base_currency\":\"EUR\",\"target_currency\":\"INR\"}'}}], 'token_count': {'input_tokens': 994.0, 'output_tokens': 90.0}}, response_metadata={'id': 'afcba0ba-afb5-44d2-b85b-b8de470fd61f', 'finish_reason': 'TOOL_CALL', 'tool_plan': 'First, I will find out the conversion factor from EUR to INR. Then, I will multiply this conversion factor by 86 to convert 86 EUR into INR.', 'tool_calls': [{'id': 'getCurrencyConversionFactor_272vhd9hntva', 'type': 'function', 'function': {'name': 'getCurrencyConversionFactor', 'arguments': '{\"base_currency\":\"EUR\",\"target_currency\":\"INR\"}'}}], 'token_count': {'input_tokens': 994.0, 'output_tokens': 90.0}}, id='run-63138335-7fef-4014-843c-b983b668a21d-0', tool_calls=[{'name': 'getCurrencyConversionFactor', 'args': {'base_currency': 'EUR', 'target_currency': 'INR'}, 'id': 'getCurrencyConversionFactor_272vhd9hntva', 'type': 'tool_call'}], usage_metadata={'input_tokens': 994, 'output_tokens': 90, 'total_tokens': 1084}),\n",
       " ToolMessage(content='{\"result\": \"success\", \"documentation\": \"https://www.exchangerate-api.com/docs\", \"terms_of_use\": \"https://www.exchangerate-api.com/terms\", \"time_last_update_unix\": 1745971201, \"time_last_update_utc\": \"Wed, 30 Apr 2025 00:00:01 +0000\", \"time_next_update_unix\": 1746057601, \"time_next_update_utc\": \"Thu, 01 May 2025 00:00:01 +0000\", \"base_code\": \"EUR\", \"target_code\": \"INR\", \"conversion_rate\": 96.993}', name='getCurrencyConversionFactor', tool_call_id='getCurrencyConversionFactor_272vhd9hntva'),\n",
       " AIMessage(content='The conversion factor from EUR to INR is 96.993. Now, I will multiply this conversion factor by 86 to convert 86 EUR into INR.', additional_kwargs={'id': 'bf8976ca-7ca0-4ab5-a3e6-ce972fed98f2', 'finish_reason': 'TOOL_CALL', 'tool_plan': 'The conversion factor from EUR to INR is 96.993. Now, I will multiply this conversion factor by 86 to convert 86 EUR into INR.', 'tool_calls': [{'id': 'convertCurrency_bkycqdfwkn1e', 'type': 'function', 'function': {'name': 'convertCurrency', 'arguments': '{\"amount\":86,\"conversion_factor\":96.993}'}}], 'token_count': {'input_tokens': 1304.0, 'output_tokens': 92.0}}, response_metadata={'id': 'bf8976ca-7ca0-4ab5-a3e6-ce972fed98f2', 'finish_reason': 'TOOL_CALL', 'tool_plan': 'The conversion factor from EUR to INR is 96.993. Now, I will multiply this conversion factor by 86 to convert 86 EUR into INR.', 'tool_calls': [{'id': 'convertCurrency_bkycqdfwkn1e', 'type': 'function', 'function': {'name': 'convertCurrency', 'arguments': '{\"amount\":86,\"conversion_factor\":96.993}'}}], 'token_count': {'input_tokens': 1304.0, 'output_tokens': 92.0}}, id='run-df7bf13a-7aa6-4053-b85f-4bb5f6fa9415-0', tool_calls=[{'name': 'convertCurrency', 'args': {'amount': 86, 'conversion_factor': 96.993}, 'id': 'convertCurrency_bkycqdfwkn1e', 'type': 'tool_call'}], usage_metadata={'input_tokens': 1304, 'output_tokens': 92, 'total_tokens': 1396}),\n",
       " ToolMessage(content='8341.398', name='convertCurrency', tool_call_id='convertCurrency_bkycqdfwkn1e')]"
      ]
     },
     "execution_count": 38,
     "metadata": {},
     "output_type": "execute_result"
    }
   ],
   "source": [
    "messages.append(res2)\n",
    "messages.append(multiplierResponse)\n",
    "messages"
   ]
  },
  {
   "cell_type": "code",
   "execution_count": 39,
   "id": "0ecce9e2",
   "metadata": {},
   "outputs": [],
   "source": [
    "final_response = binded_llm.invoke(messages)"
   ]
  },
  {
   "cell_type": "code",
   "execution_count": 40,
   "id": "4a1a695b",
   "metadata": {},
   "outputs": [
    {
     "data": {
      "text/plain": [
       "AIMessage(content='The conversion factor from EUR to INR is 96.993. 86 EUR is equivalent to approximately **8341.398 INR**.', additional_kwargs={'id': '59c67149-a484-43cf-9851-e8543c49c622', 'finish_reason': 'COMPLETE', 'content': 'The conversion factor from EUR to INR is 96.993. 86 EUR is equivalent to approximately **8341.398 INR**.', 'citations': [Citation(start=41, end=47, text='96.993', sources=[ToolSource(type='tool', id='getCurrencyConversionFactor_272vhd9hntva:0', tool_output={'output': '{\"result\": \"success\", \"documentation\": \"https://www.exchangerate-api.com/docs\", \"terms_of_use\": \"https://www.exchangerate-api.com/terms\", \"time_last_update_unix\": 1745971201, \"time_last_update_utc\": \"Wed, 30 Apr 2025 00:00:01 +0000\", \"time_next_update_unix\": 1746057601, \"time_next_update_utc\": \"Thu, 01 May 2025 00:00:01 +0000\", \"base_code\": \"EUR\", \"target_code\": \"INR\", \"conversion_rate\": 96.993}'})], type='TEXT_CONTENT'), Citation(start=88, end=101, text='*8341.398 INR', sources=[ToolSource(type='tool', id='convertCurrency_bkycqdfwkn1e:0', tool_output={'output': '8341.398'})], type='TEXT_CONTENT')], 'token_count': {'input_tokens': 1433.0, 'output_tokens': 116.0}}, response_metadata={'id': '59c67149-a484-43cf-9851-e8543c49c622', 'finish_reason': 'COMPLETE', 'content': 'The conversion factor from EUR to INR is 96.993. 86 EUR is equivalent to approximately **8341.398 INR**.', 'citations': [Citation(start=41, end=47, text='96.993', sources=[ToolSource(type='tool', id='getCurrencyConversionFactor_272vhd9hntva:0', tool_output={'output': '{\"result\": \"success\", \"documentation\": \"https://www.exchangerate-api.com/docs\", \"terms_of_use\": \"https://www.exchangerate-api.com/terms\", \"time_last_update_unix\": 1745971201, \"time_last_update_utc\": \"Wed, 30 Apr 2025 00:00:01 +0000\", \"time_next_update_unix\": 1746057601, \"time_next_update_utc\": \"Thu, 01 May 2025 00:00:01 +0000\", \"base_code\": \"EUR\", \"target_code\": \"INR\", \"conversion_rate\": 96.993}'})], type='TEXT_CONTENT'), Citation(start=88, end=101, text='*8341.398 INR', sources=[ToolSource(type='tool', id='convertCurrency_bkycqdfwkn1e:0', tool_output={'output': '8341.398'})], type='TEXT_CONTENT')], 'token_count': {'input_tokens': 1433.0, 'output_tokens': 116.0}}, id='run-3a3b7e0e-e645-4cf5-8fb8-dc0deacd4881-0', usage_metadata={'input_tokens': 1433, 'output_tokens': 116, 'total_tokens': 1549})"
      ]
     },
     "execution_count": 40,
     "metadata": {},
     "output_type": "execute_result"
    }
   ],
   "source": [
    "final_response"
   ]
  },
  {
   "cell_type": "code",
   "execution_count": 41,
   "id": "a6dd57dd",
   "metadata": {},
   "outputs": [],
   "source": [
    "import json\n",
    "for tool_call in res1.tool_calls:\n",
    "    # get the conversion factor\n",
    "    if tool_call['name'] == 'getCurrencyConversionFactor':\n",
    "        conversion_factor_response = getCurrencyConversionFactor.invoke(tool_call)\n",
    "        # fetch conversion rate\n",
    "        conversion_rate = json.loads(conversion_factor_response.content)\n",
    "        messages.append(conversion_factor_response)\n",
    "        \n",
    "    else:\n",
    "        # add conversion factor to the tool call\n",
    "        tool_call[0]['args']['conversion_factor'] = conversion_rate\n",
    "        # get the conversion amount\n",
    "        conversion_amount_response = convertCurrency.invoke(tool_call)\n",
    "        messages.append(conversion_amount_response)"
   ]
  },
  {
   "cell_type": "code",
   "execution_count": null,
   "id": "22ed2741",
   "metadata": {},
   "outputs": [],
   "source": []
  },
  {
   "cell_type": "code",
   "execution_count": null,
   "id": "e55cf64b",
   "metadata": {},
   "outputs": [],
   "source": []
  },
  {
   "cell_type": "code",
   "execution_count": null,
   "id": "3bb4d33c",
   "metadata": {},
   "outputs": [],
   "source": []
  }
 ],
 "metadata": {
  "kernelspec": {
   "display_name": "venv",
   "language": "python",
   "name": "python3"
  },
  "language_info": {
   "codemirror_mode": {
    "name": "ipython",
    "version": 3
   },
   "file_extension": ".py",
   "mimetype": "text/x-python",
   "name": "python",
   "nbconvert_exporter": "python",
   "pygments_lexer": "ipython3",
   "version": "3.11.7"
  }
 },
 "nbformat": 4,
 "nbformat_minor": 5
}
