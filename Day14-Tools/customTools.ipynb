{
 "cells": [
  {
   "cell_type": "code",
   "execution_count": 1,
   "id": "defb6eb4",
   "metadata": {},
   "outputs": [],
   "source": [
    "from langchain_core.tools import tool"
   ]
  },
  {
   "cell_type": "code",
   "execution_count": 2,
   "id": "46812dfb",
   "metadata": {},
   "outputs": [],
   "source": [
    "# s1 - create a function\n",
    "def multiply(a, b):\n",
    "    '''Multiplies two numbers together.'''\n",
    "    return a*b"
   ]
  },
  {
   "cell_type": "code",
   "execution_count": 3,
   "id": "c7413b48",
   "metadata": {},
   "outputs": [],
   "source": [
    "# s2 - add type hints (type hinting)\n",
    "def multiply(a: int, b: int) -> int:\n",
    "    '''Multiplies two numbers together.'''\n",
    "    return a*b"
   ]
  },
  {
   "cell_type": "markdown",
   "id": "bad9d02f",
   "metadata": {},
   "source": [
    "##### M1: using tool decorator"
   ]
  },
  {
   "cell_type": "code",
   "execution_count": 4,
   "id": "090d7dfd",
   "metadata": {},
   "outputs": [],
   "source": [
    "# s3 - add tool decorator\n",
    "\n",
    "\"\"\"\n",
    "    @tool - decorator is used to mark this function as a special function.\n",
    "\"\"\"\n",
    "@tool\n",
    "def multiply(a: int, b: int) -> int:\n",
    "    '''Multiplies two numbers together.'''\n",
    "    return a*b"
   ]
  },
  {
   "cell_type": "code",
   "execution_count": 7,
   "id": "a8166c23",
   "metadata": {},
   "outputs": [
    {
     "name": "stdout",
     "output_type": "stream",
     "text": [
      "40\n"
     ]
    }
   ],
   "source": [
    "ans = multiply.invoke({'a':5, 'b':8})\n",
    "print(ans)"
   ]
  },
  {
   "cell_type": "code",
   "execution_count": 9,
   "id": "0608e7ca",
   "metadata": {},
   "outputs": [
    {
     "name": "stdout",
     "output_type": "stream",
     "text": [
      "multiply\n",
      "Multiplies two numbers together.\n",
      "{'a': {'title': 'A', 'type': 'integer'}, 'b': {'title': 'B', 'type': 'integer'}}\n"
     ]
    }
   ],
   "source": [
    "# properties\n",
    "\n",
    "print(multiply.name)\n",
    "print(multiply.description)\n",
    "print(multiply.args)"
   ]
  },
  {
   "cell_type": "markdown",
   "id": "271282ca",
   "metadata": {},
   "source": [
    "##### M2: Using Structured tool\n",
    "\n",
    "*It's a special type of tool where input follows a structured schema, defined using pydantic model*"
   ]
  },
  {
   "cell_type": "code",
   "execution_count": 1,
   "id": "358815db",
   "metadata": {},
   "outputs": [],
   "source": [
    "from langchain.tools import StructuredTool\n",
    "from pydantic import BaseModel, Field"
   ]
  },
  {
   "cell_type": "code",
   "execution_count": null,
   "id": "32e92a3f",
   "metadata": {},
   "outputs": [],
   "source": [
    "# pydantic class inherited from BaseModel\n",
    "class MultiplyIntegers(BaseModel):\n",
    "    a: int = Field(required=True, description=\"The first number to multiply.\")\n",
    "    b: int = Field(required=True, description=\"The second number to multiply.\")\n"
   ]
  },
  {
   "cell_type": "code",
   "execution_count": null,
   "id": "fd1cb753",
   "metadata": {},
   "outputs": [],
   "source": [
    "# function to be used\n",
    "def multiplyNums(a: int, b: int) -> int:\n",
    "    return a*b"
   ]
  },
  {
   "cell_type": "code",
   "execution_count": null,
   "id": "ff4ffcf8",
   "metadata": {},
   "outputs": [],
   "source": [
    "# converting the function to a tool using StructuredTool\n",
    "multiply_tool = StructuredTool.from_function(\n",
    "    func= multiplyNums, # defined function name\n",
    "    name=\"multiply\", # name of tool\n",
    "    description=\"Multiply two numbers\", # description of tool\n",
    "    args_schema=MultiplyIntegers # pydantic class containing information about the arguments\n",
    ")"
   ]
  },
  {
   "cell_type": "code",
   "execution_count": 5,
   "id": "911b09a3",
   "metadata": {},
   "outputs": [
    {
     "name": "stdout",
     "output_type": "stream",
     "text": [
      "40\n",
      "multiply\n",
      "Multiply two numbers\n"
     ]
    }
   ],
   "source": [
    "res = multiply_tool.invoke({\"a\": 5, \"b\": 8})\n",
    "\n",
    "print(res)\n",
    "print(multiply_tool.name)\n",
    "print(multiply_tool.description)"
   ]
  },
  {
   "cell_type": "markdown",
   "id": "744cbeaa",
   "metadata": {},
   "source": [
    "##### M3: using BaseTool Class\n",
    "\n",
    "*BaseTool is the abstract base class for tools in langchain. It defines the core structure of tool. @tool is built on top of it.*"
   ]
  },
  {
   "cell_type": "code",
   "execution_count": 10,
   "id": "011c4e13",
   "metadata": {},
   "outputs": [],
   "source": [
    "from langchain.tools import BaseTool\n",
    "from typing import Type"
   ]
  },
  {
   "cell_type": "code",
   "execution_count": 11,
   "id": "87dd5604",
   "metadata": {},
   "outputs": [],
   "source": [
    "# argument structuring using pydantic\n",
    "class MultiplyIntegers(BaseModel):\n",
    "    a: int = Field(required=True, description=\"The first number to multiply.\")\n",
    "    b: int = Field(required=True, description=\"The second number to multiply.\")"
   ]
  },
  {
   "cell_type": "code",
   "execution_count": null,
   "id": "b5a1e06f",
   "metadata": {},
   "outputs": [],
   "source": [
    "# tool class definition\n",
    "class MultiplyTool(BaseTool):\n",
    "    name: str = \"multiply\" # tool name\n",
    "    description: str = \"Multiply two numbers\" # tool description\n",
    "    \n",
    "    args_schema: Type[BaseModel] = MultiplyIntegers # pydantic class containing information about the arguments\n",
    "    \n",
    "    def _run(self, a: int, b: int) -> int:\n",
    "        return a*b"
   ]
  },
  {
   "cell_type": "code",
   "execution_count": 14,
   "id": "59dc775b",
   "metadata": {},
   "outputs": [],
   "source": [
    "multiply_tool = MultiplyTool() # creating an instance of the tool class"
   ]
  },
  {
   "cell_type": "code",
   "execution_count": 17,
   "id": "fa16e570",
   "metadata": {},
   "outputs": [
    {
     "name": "stdout",
     "output_type": "stream",
     "text": [
      "40\n",
      "multiply\n",
      "Multiply two numbers\n",
      "{'properties': {'a': {'description': 'The first number to multiply.', 'required': True, 'title': 'A', 'type': 'integer'}, 'b': {'description': 'The second number to multiply.', 'required': True, 'title': 'B', 'type': 'integer'}}, 'required': ['a', 'b'], 'title': 'MultiplyIntegers', 'type': 'object'}\n"
     ]
    }
   ],
   "source": [
    "res = multiply_tool.invoke({\"a\": 5, \"b\": 8})\n",
    "\n",
    "print(res)\n",
    "print(multiply_tool.name)\n",
    "print(multiply_tool.description)\n",
    "print(multiply_tool.args_schema.model_json_schema()) # schema of the arguments"
   ]
  },
  {
   "cell_type": "markdown",
   "id": "ce919665",
   "metadata": {},
   "source": [
    "## Custom Toolkit"
   ]
  },
  {
   "cell_type": "code",
   "execution_count": 19,
   "id": "8e717650",
   "metadata": {},
   "outputs": [],
   "source": [
    "from langchain_core.tools import tool\n",
    "@tool\n",
    "def add(a: int, b: int) -> int:\n",
    "    '''Adds two numbers together.'''\n",
    "    return a + b\n",
    "\n",
    "@tool\n",
    "def subtract(a: int, b: int) -> int:\n",
    "    '''Subtracts two numbers.'''\n",
    "    return a - b\n"
   ]
  },
  {
   "cell_type": "code",
   "execution_count": 20,
   "id": "85b102da",
   "metadata": {},
   "outputs": [],
   "source": [
    "class MathsToolkit:\n",
    "    def get_tools(self):\n",
    "        return [add, subtract]"
   ]
  },
  {
   "cell_type": "code",
   "execution_count": 21,
   "id": "4d636acd",
   "metadata": {},
   "outputs": [
    {
     "name": "stdout",
     "output_type": "stream",
     "text": [
      "add\n",
      "Adds two numbers together.\n",
      "{'description': 'Adds two numbers together.', 'properties': {'a': {'title': 'A', 'type': 'integer'}, 'b': {'title': 'B', 'type': 'integer'}}, 'required': ['a', 'b'], 'title': 'add', 'type': 'object'}\n",
      "subtract\n",
      "Subtracts two numbers.\n",
      "{'description': 'Subtracts two numbers.', 'properties': {'a': {'title': 'A', 'type': 'integer'}, 'b': {'title': 'B', 'type': 'integer'}}, 'required': ['a', 'b'], 'title': 'subtract', 'type': 'object'}\n"
     ]
    }
   ],
   "source": [
    "toolkit = MathsToolkit()\n",
    "\n",
    "tools = toolkit.get_tools()\n",
    "\n",
    "for tool in tools:\n",
    "    print(tool.name)\n",
    "    print(tool.description)\n",
    "    print(tool.args_schema.model_json_schema()) # schema of the arguments"
   ]
  },
  {
   "cell_type": "code",
   "execution_count": null,
   "id": "6b0398f8",
   "metadata": {},
   "outputs": [],
   "source": []
  }
 ],
 "metadata": {
  "kernelspec": {
   "display_name": "venv",
   "language": "python",
   "name": "python3"
  },
  "language_info": {
   "codemirror_mode": {
    "name": "ipython",
    "version": 3
   },
   "file_extension": ".py",
   "mimetype": "text/x-python",
   "name": "python",
   "nbconvert_exporter": "python",
   "pygments_lexer": "ipython3",
   "version": "3.11.7"
  }
 },
 "nbformat": 4,
 "nbformat_minor": 5
}
