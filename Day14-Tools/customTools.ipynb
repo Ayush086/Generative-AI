{
 "cells": [
  {
   "cell_type": "code",
   "execution_count": 1,
   "id": "defb6eb4",
   "metadata": {},
   "outputs": [],
   "source": [
    "from langchain_core.tools import tool"
   ]
  },
  {
   "cell_type": "code",
   "execution_count": 2,
   "id": "46812dfb",
   "metadata": {},
   "outputs": [],
   "source": [
    "# s1 - create a function\n",
    "def multiply(a, b):\n",
    "    '''Multiplies two numbers together.'''\n",
    "    return a*b"
   ]
  },
  {
   "cell_type": "code",
   "execution_count": 3,
   "id": "c7413b48",
   "metadata": {},
   "outputs": [],
   "source": [
    "# s2 - add type hints (type hinting)\n",
    "def multiply(a: int, b: int) -> int:\n",
    "    '''Multiplies two numbers together.'''\n",
    "    return a*b"
   ]
  },
  {
   "cell_type": "code",
   "execution_count": 4,
   "id": "090d7dfd",
   "metadata": {},
   "outputs": [],
   "source": [
    "# s3 - add tool decorator\n",
    "\n",
    "\"\"\"\n",
    "    @tool - decorator is used to mark this function as a special function.\n",
    "\"\"\"\n",
    "@tool\n",
    "def multiply(a: int, b: int) -> int:\n",
    "    '''Multiplies two numbers together.'''\n",
    "    return a*b"
   ]
  },
  {
   "cell_type": "code",
   "execution_count": 7,
   "id": "a8166c23",
   "metadata": {},
   "outputs": [
    {
     "name": "stdout",
     "output_type": "stream",
     "text": [
      "40\n"
     ]
    }
   ],
   "source": [
    "ans = multiply.invoke({'a':5, 'b':8})\n",
    "print(ans)"
   ]
  },
  {
   "cell_type": "code",
   "execution_count": 9,
   "id": "0608e7ca",
   "metadata": {},
   "outputs": [
    {
     "name": "stdout",
     "output_type": "stream",
     "text": [
      "multiply\n",
      "Multiplies two numbers together.\n",
      "{'a': {'title': 'A', 'type': 'integer'}, 'b': {'title': 'B', 'type': 'integer'}}\n"
     ]
    }
   ],
   "source": [
    "# properties\n",
    "\n",
    "print(multiply.name)\n",
    "print(multiply.description)\n",
    "print(multiply.args)"
   ]
  },
  {
   "cell_type": "code",
   "execution_count": null,
   "id": "358815db",
   "metadata": {},
   "outputs": [],
   "source": []
  }
 ],
 "metadata": {
  "kernelspec": {
   "display_name": "venv",
   "language": "python",
   "name": "python3"
  },
  "language_info": {
   "codemirror_mode": {
    "name": "ipython",
    "version": 3
   },
   "file_extension": ".py",
   "mimetype": "text/x-python",
   "name": "python",
   "nbconvert_exporter": "python",
   "pygments_lexer": "ipython3",
   "version": "3.11.7"
  }
 },
 "nbformat": 4,
 "nbformat_minor": 5
}
