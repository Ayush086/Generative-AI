{
 "cells": [
  {
   "cell_type": "code",
   "execution_count": 2,
   "id": "bb72276f",
   "metadata": {},
   "outputs": [],
   "source": [
    "import os\n",
    "os.environ['COHERE_API_KEY'] = \"43w9iLmkVlcDMzLiYXfPfnRgdRtG7NZDT6wCSzcK\""
   ]
  },
  {
   "cell_type": "code",
   "execution_count": 3,
   "id": "3ec6cd84",
   "metadata": {},
   "outputs": [],
   "source": [
    "from langchain_cohere import ChatCohere\n",
    "from langchain_core.tools import tool \n",
    "import requests"
   ]
  },
  {
   "cell_type": "markdown",
   "id": "9ea87b4f",
   "metadata": {},
   "source": [
    "tried using google search engine but it's process is complicated so we are going to stick with duck duck go search only, best for experimentation"
   ]
  },
  {
   "cell_type": "markdown",
   "id": "909e05c8",
   "metadata": {},
   "source": []
  }
 ],
 "metadata": {
  "kernelspec": {
   "display_name": "venv",
   "language": "python",
   "name": "python3"
  },
  "language_info": {
   "codemirror_mode": {
    "name": "ipython",
    "version": 3
   },
   "file_extension": ".py",
   "mimetype": "text/x-python",
   "name": "python",
   "nbconvert_exporter": "python",
   "pygments_lexer": "ipython3",
   "version": "3.11.7"
  }
 },
 "nbformat": 4,
 "nbformat_minor": 5
}
