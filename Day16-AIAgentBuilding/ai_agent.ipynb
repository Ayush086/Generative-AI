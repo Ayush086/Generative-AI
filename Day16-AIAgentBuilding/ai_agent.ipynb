{
 "cells": [
  {
   "cell_type": "code",
   "execution_count": 1,
   "id": "ea2fa1a4",
   "metadata": {},
   "outputs": [],
   "source": [
    "import os\n",
    "os.environ['COHERE_API_KEY'] = \"43w9iLmkVlcDMzLiYXfPfnRgdRtG7NZDT6wCSzcK\""
   ]
  },
  {
   "cell_type": "code",
   "execution_count": 2,
   "id": "ad81700c",
   "metadata": {},
   "outputs": [],
   "source": [
    "from langchain_cohere import ChatCohere\n",
    "from langchain_core.tools import tool\n",
    "import requests"
   ]
  },
  {
   "cell_type": "code",
   "execution_count": 3,
   "id": "2377eb10",
   "metadata": {},
   "outputs": [],
   "source": [
    "from langchain_community.tools import DuckDuckGoSearchRun\n",
    "\n",
    "search_tool = DuckDuckGoSearchRun()"
   ]
  },
  {
   "cell_type": "code",
   "execution_count": null,
   "id": "18a5b672",
   "metadata": {},
   "outputs": [],
   "source": [
    "# testing\n",
    "search_tool.invoke(\"Operation Sindoor\")"
   ]
  },
  {
   "cell_type": "code",
   "execution_count": 5,
   "id": "6bd1c2dd",
   "metadata": {},
   "outputs": [],
   "source": [
    "llm = ChatCohere(model='command-r')"
   ]
  },
  {
   "cell_type": "code",
   "execution_count": 6,
   "id": "4096ebae",
   "metadata": {},
   "outputs": [
    {
     "data": {
      "text/plain": [
       "AIMessage(content=\"Hey! I'm doing well, thank you for asking! It's a pleasure to be of assistance and I'm ready to help you with whatever you need. How can I make your day better?\", additional_kwargs={'id': 'a05a2e99-4f3a-468c-9bbc-e24f1dc6e17c', 'finish_reason': 'COMPLETE', 'content': \"Hey! I'm doing well, thank you for asking! It's a pleasure to be of assistance and I'm ready to help you with whatever you need. How can I make your day better?\", 'token_count': {'input_tokens': 73.0, 'output_tokens': 40.0}}, response_metadata={'id': 'a05a2e99-4f3a-468c-9bbc-e24f1dc6e17c', 'finish_reason': 'COMPLETE', 'content': \"Hey! I'm doing well, thank you for asking! It's a pleasure to be of assistance and I'm ready to help you with whatever you need. How can I make your day better?\", 'token_count': {'input_tokens': 73.0, 'output_tokens': 40.0}}, id='run-a5322590-a1b9-4f7d-b3b4-bcfe80b04352-0', usage_metadata={'input_tokens': 73, 'output_tokens': 40, 'total_tokens': 113})"
      ]
     },
     "execution_count": 6,
     "metadata": {},
     "output_type": "execute_result"
    }
   ],
   "source": [
    "llm.invoke(\"Hey there, how are you?\")"
   ]
  },
  {
   "cell_type": "code",
   "execution_count": null,
   "id": "990b4361",
   "metadata": {},
   "outputs": [],
   "source": []
  }
 ],
 "metadata": {
  "kernelspec": {
   "display_name": "venv",
   "language": "python",
   "name": "python3"
  },
  "language_info": {
   "codemirror_mode": {
    "name": "ipython",
    "version": 3
   },
   "file_extension": ".py",
   "mimetype": "text/x-python",
   "name": "python",
   "nbconvert_exporter": "python",
   "pygments_lexer": "ipython3",
   "version": "3.11.7"
  }
 },
 "nbformat": 4,
 "nbformat_minor": 5
}
