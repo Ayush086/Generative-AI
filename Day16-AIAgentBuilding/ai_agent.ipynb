{
 "cells": [
  {
   "cell_type": "code",
   "execution_count": 3,
   "id": "ea2fa1a4",
   "metadata": {},
   "outputs": [],
   "source": [
    "import os\n",
    "os.environ['COHERE_API_KEY'] = \"43w9iLmkVlcDMzLiYXfPfnRgdRtG7NZDT6wCSzcK\""
   ]
  },
  {
   "cell_type": "code",
   "execution_count": 4,
   "id": "ad81700c",
   "metadata": {},
   "outputs": [],
   "source": [
    "from langchain_cohere import ChatCohere\n",
    "from langchain_core.tools import tool\n",
    "import requests"
   ]
  },
  {
   "cell_type": "code",
   "execution_count": 5,
   "id": "2377eb10",
   "metadata": {},
   "outputs": [],
   "source": [
    "from langchain_community.tools import DuckDuckGoSearchRun\n",
    "\n",
    "search_tool = DuckDuckGoSearchRun()"
   ]
  },
  {
   "cell_type": "code",
   "execution_count": 6,
   "id": "18a5b672",
   "metadata": {},
   "outputs": [
    {
     "data": {
      "text/plain": [
       "'Operation Sindoor Live Updates: Amid escalating tensions between India and Pakistan, explosions were heard near the Line of Control (LoC) in the Poon Operation Sindoor Highlights: Tensions with Pakistan escalated on Thursday as strikes were launched towards Jammu, Pathankot and Udhampur from Pakistan. Several drones and missiles were intercepted by India\\'s S-400 defence systems. The development came a day after India carried out Operation Sindoor ... Context: In response to the Pahalgam terrorist attack that killed 25 Indians and one Nepali citizen on April 22, 2025, India launched \\'Operation Sindoor\\', a precise military offensive targeting nine terrorist camps across Pakistan and Pakistan-occupied Kashmir (PoK). India launched \"Operation Sindoor\" in the early hours of Wednesday morning local time (Tuesday night ET) in both Pakistan and Pakistan-administered Kashmir. Why did India call it Operation Sindoor? The Indian military has dubbed its missile strikes in Pakistan and Pakistan-administered Kashmir \"Operation Sindoor\". That name is significant.'"
      ]
     },
     "execution_count": 6,
     "metadata": {},
     "output_type": "execute_result"
    }
   ],
   "source": [
    "# testing\n",
    "search_tool.invoke(\"Operation Sindoor\")"
   ]
  },
  {
   "cell_type": "code",
   "execution_count": 7,
   "id": "6bd1c2dd",
   "metadata": {},
   "outputs": [],
   "source": [
    "llm = ChatCohere(model='command-r')"
   ]
  },
  {
   "cell_type": "code",
   "execution_count": 8,
   "id": "4096ebae",
   "metadata": {},
   "outputs": [
    {
     "data": {
      "text/plain": [
       "AIMessage(content=\"Hello! I'm doing well, thank you for asking! It's a pleasure to be of assistance and I'm ready to help you with whatever you need. How can I make your day better?\", additional_kwargs={'id': '6aee019d-b31d-4117-8aa8-5b1ffb8e067f', 'finish_reason': 'COMPLETE', 'content': \"Hello! I'm doing well, thank you for asking! It's a pleasure to be of assistance and I'm ready to help you with whatever you need. How can I make your day better?\", 'token_count': {'input_tokens': 73.0, 'output_tokens': 40.0}}, response_metadata={'id': '6aee019d-b31d-4117-8aa8-5b1ffb8e067f', 'finish_reason': 'COMPLETE', 'content': \"Hello! I'm doing well, thank you for asking! It's a pleasure to be of assistance and I'm ready to help you with whatever you need. How can I make your day better?\", 'token_count': {'input_tokens': 73.0, 'output_tokens': 40.0}}, id='run-8deb92b9-b3ea-49b2-b445-c03e28d9a169-0', usage_metadata={'input_tokens': 73, 'output_tokens': 40, 'total_tokens': 113})"
      ]
     },
     "execution_count": 8,
     "metadata": {},
     "output_type": "execute_result"
    }
   ],
   "source": [
    "llm.invoke(\"Hey there, how are you?\")"
   ]
  },
  {
   "cell_type": "code",
   "execution_count": 9,
   "id": "990b4361",
   "metadata": {},
   "outputs": [],
   "source": [
    "from langchain.agents import create_react_agent, AgentExecutor\n",
    "from langchain import hub"
   ]
  },
  {
   "cell_type": "code",
   "execution_count": 10,
   "id": "746b8864",
   "metadata": {},
   "outputs": [
    {
     "name": "stderr",
     "output_type": "stream",
     "text": [
      "d:\\Generative-AI\\venv\\Lib\\site-packages\\langsmith\\client.py:253: LangSmithMissingAPIKeyWarning: API key must be provided when using hosted LangSmith API\n",
      "  warnings.warn(\n"
     ]
    }
   ],
   "source": [
    "# there are various types of agents available, we are going to use REACT agent\n",
    "prompt = hub.pull('hwchase17/react') # prompt template for REACT agent"
   ]
  },
  {
   "cell_type": "code",
   "execution_count": 11,
   "id": "328804ab",
   "metadata": {},
   "outputs": [],
   "source": [
    "# agent building\n",
    "agent = create_react_agent(\n",
    "    llm=llm,\n",
    "    tools=[search_tool],\n",
    "    prompt=prompt\n",
    ")"
   ]
  },
  {
   "cell_type": "markdown",
   "id": "758afdf8",
   "metadata": {},
   "source": [
    "agent - mastermind (sensor)  \n",
    "agent executor - task performer (actuator)"
   ]
  },
  {
   "cell_type": "code",
   "execution_count": 12,
   "id": "c61c9531",
   "metadata": {},
   "outputs": [],
   "source": [
    "# agent executor - it performs the action told by agent\n",
    "agent_executor = AgentExecutor(\n",
    "    agent = agent,\n",
    "    tools = [search_tool],\n",
    "    verbose = True\n",
    ")"
   ]
  },
  {
   "cell_type": "code",
   "execution_count": 13,
   "id": "7b655ce0",
   "metadata": {},
   "outputs": [
    {
     "name": "stdout",
     "output_type": "stream",
     "text": [
      "\n",
      "\n",
      "\u001b[1m> Entering new AgentExecutor chain...\u001b[0m\n",
      "\u001b[32;1m\u001b[1;3mThought: The word which best describes this situation is 'unjust'.\n",
      "Final Answer: Unjust.\u001b[0m\n",
      "\n",
      "\u001b[1m> Finished chain.\u001b[0m\n"
     ]
    }
   ],
   "source": [
    "# agent building complete we can test it now\n",
    "response = agent_executor.invoke({\"input\": \"tell me the one word for this situation: deserving people aren't getting chance to prove themselves\"})"
   ]
  },
  {
   "cell_type": "code",
   "execution_count": null,
   "id": "a0edc63c",
   "metadata": {},
   "outputs": [],
   "source": []
  }
 ],
 "metadata": {
  "kernelspec": {
   "display_name": "venv",
   "language": "python",
   "name": "python3"
  },
  "language_info": {
   "codemirror_mode": {
    "name": "ipython",
    "version": 3
   },
   "file_extension": ".py",
   "mimetype": "text/x-python",
   "name": "python",
   "nbconvert_exporter": "python",
   "pygments_lexer": "ipython3",
   "version": "3.11.7"
  }
 },
 "nbformat": 4,
 "nbformat_minor": 5
}
